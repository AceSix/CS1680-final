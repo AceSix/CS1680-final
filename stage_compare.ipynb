{
 "cells": [
  {
   "cell_type": "code",
   "execution_count": 1,
   "metadata": {},
   "outputs": [],
   "source": [
    "import sys\n",
    "import struct\n",
    "import os\n",
    "from scapy.all import *\n",
    "from matplotlib import pyplot as plt\n",
    "from prettytable import PrettyTable\n",
    "from utils import *\n",
    "import numpy as np\n",
    "import matplotlib.pyplot as plt"
   ]
  },
  {
   "cell_type": "code",
   "execution_count": 13,
   "metadata": {},
   "outputs": [],
   "source": [
    "def get_connections(filename):\n",
    "    Connections = []\n",
    "    my_ip = \"172.16.105.110\"\n",
    "        \n",
    "    a = rdpcap(filename)\n",
    "    sessions = a.sessions()\n",
    "    \n",
    "    for session in sessions:\n",
    "        for id_p,packet in enumerate(sessions[session]):\n",
    "            if(packet.haslayer(ARP) or packet.haslayer(DNS)):\n",
    "                continue\n",
    "                 \n",
    "            if(packet.haslayer(IP)):\n",
    "                if(packet.haslayer(TCP)):                \n",
    "                    flag = False\n",
    "                    idx = len(Connections)\n",
    "                    for i,con in enumerate(Connections):\n",
    "                        if match_TCP(con, packet):\n",
    "                            flag = True\n",
    "                            idx = i\n",
    "                            break\n",
    "                    if not flag:\n",
    "                        if packet[IP].src==my_ip:\n",
    "                            Connections.append({\n",
    "                                's_ip':packet[IP].src,'d_ip':packet[IP].dst,\n",
    "                                's_port':packet[TCP].sport,'d_port':packet[TCP].dport,\n",
    "                                'type':\"TCP\",\n",
    "                                'snd_packets':[],\n",
    "                                'rcv_packets':[]\n",
    "                            })\n",
    "                        else:\n",
    "                            Connections.append({\n",
    "                                's_ip':packet[IP].dst,'d_ip':packet[IP].src,\n",
    "                                's_port':packet[TCP].dport,'d_port':packet[TCP].sport,\n",
    "                                'type':\"TCP\",\n",
    "                                'snd_packets':[],\n",
    "                                'rcv_packets':[]\n",
    "                            })\n",
    "                        \n",
    "                    if packet[IP].src==my_ip:\n",
    "                        Connections[idx]['snd_packets'].append({\n",
    "                            \"seq\":packet[TCP].seq, \"len\":len(packet[TCP].payload),\n",
    "                            \"flag\":packet[TCP].flags, \"order\": id_p\n",
    "                        })\n",
    "                    else:\n",
    "                        Connections[idx]['rcv_packets'].append({\n",
    "                            \"seq\":packet[TCP].seq, \"len\":len(packet[TCP].payload),\n",
    "                            \"flag\":packet[TCP].flags, \"order\": id_p\n",
    "                        })\n",
    "                    pass\n",
    "            \n",
    "                elif(packet.haslayer(UDP)):\n",
    "                    flag = False\n",
    "                    idx = len(Connections)\n",
    "                    for i,con in enumerate(Connections):\n",
    "                        if match_UDP(con, packet):\n",
    "                            flag = True\n",
    "                            idx=i\n",
    "                            break\n",
    "                    if not flag:\n",
    "                        if packet[IP].src==my_ip:\n",
    "                            Connections.append({\n",
    "                                's_ip':packet[IP].src,'d_ip':packet[IP].dst,\n",
    "                                's_port':packet[UDP].sport,'d_port':packet[UDP].dport,\n",
    "                                'type':\"UDP\",\n",
    "                                'snd_packets':[],\n",
    "                                'rcv_packets':[]\n",
    "                            })\n",
    "                        else:\n",
    "                            Connections.append({\n",
    "                                's_ip':packet[IP].dst,'d_ip':packet[IP].src,\n",
    "                                's_port':packet[UDP].dport,'d_port':packet[UDP].sport,\n",
    "                                'type':\"UDP\",\n",
    "                                'snd_packets':[],\n",
    "                                'rcv_packets':[]\n",
    "                            })\n",
    "                        \n",
    "                    if packet[IP].src==my_ip:\n",
    "                        Connections[idx]['snd_packets'].append({\n",
    "                            \"len\":len(packet[UDP].payload),\n",
    "                                \"order\": id_p\n",
    "                        })\n",
    "                    else:\n",
    "                        Connections[idx]['rcv_packets'].append({\n",
    "                            \"len\":len(packet[UDP].payload),\n",
    "                            \"order\": id_p\n",
    "                        })\n",
    "                    pass\n",
    "                else:\n",
    "                    pass\n",
    "    #                 break\n",
    "    \n",
    "    x = PrettyTable()\n",
    "    \n",
    "    x.field_names = [\"Connection\", \"Type\", \"Num Pkt H2R\", \"Num Pkt R2H\", \"Len Data H2R\", \"Len Data R2H\"]\n",
    "    \n",
    "    for con in Connections:\n",
    "        x.add_row([f\"{con['s_ip']}:{con['s_port']}->{con['d_ip']}:{con['d_port']}\", \n",
    "                   con['type'], \n",
    "                   len(con['snd_packets']), len(con['rcv_packets']), \n",
    "                   sum([pkt['len'] for pkt in con['snd_packets']]), \n",
    "                   sum([pkt['len'] for pkt in con['rcv_packets']])])\n",
    "        \n",
    "    \n",
    "    print(x)"
   ]
  },
  {
   "cell_type": "code",
   "execution_count": 14,
   "metadata": {},
   "outputs": [
    {
     "name": "stdout",
     "output_type": "stream",
     "text": [
      "+-------------------------------------------+------+-------------+-------------+--------------+--------------+\n",
      "|                 Connection                | Type | Num Pkt H2R | Num Pkt R2H | Len Data H2R | Len Data R2H |\n",
      "+-------------------------------------------+------+-------------+-------------+--------------+--------------+\n",
      "|  172.16.105.110:60450->170.114.10.89:443  | TCP  |      2      |      0      |      31      |      0       |\n",
      "|  172.16.105.110:60452->170.114.10.89:443  | TCP  |      2      |      0      |      31      |      0       |\n",
      "|  172.16.105.110:60454->170.114.10.89:443  | TCP  |      2      |      0      |      31      |      0       |\n",
      "|  172.16.105.110:56786->170.114.10.83:443  | TCP  |      2      |      0      |      31      |      0       |\n",
      "|  172.16.105.110:52210->170.114.10.71:443  | TCP  |      11     |      9      |     3015     |    34949     |\n",
      "| 172.16.105.110:45782->198.251.148.137:443 | TCP  |      8      |      6      |     517      |     4871     |\n",
      "| 172.16.105.110:60832->198.251.134.174:443 | TCP  |      13     |      9      |     1874     |     5621     |\n",
      "| 172.16.105.110:32936->198.251.148.138:443 | TCP  |      8      |      6      |     517      |     4871     |\n",
      "| 172.16.105.110:40088->198.251.135.168:443 | TCP  |      14     |      9      |     1874     |     5625     |\n",
      "|  172.16.105.110:51292->198.251.135.90:443 | TCP  |     110     |     110     |    64599     |    17118     |\n",
      "| 172.16.105.110:52164->198.251.135.90:8801 | UDP  |     580     |     973     |    582810    |    988749    |\n",
      "| 172.16.105.110:58332->198.251.135.90:8801 | UDP  |      9      |      5      |     746      |     284      |\n",
      "| 172.16.105.110:58380->198.251.135.90:8801 | UDP  |      14     |      13     |     742      |     515      |\n",
      "+-------------------------------------------+------+-------------+-------------+--------------+--------------+\n"
     ]
    }
   ],
   "source": [
    "get_connections(\"zoom/zoom_full.pcapng\")"
   ]
  },
  {
   "cell_type": "code",
   "execution_count": 22,
   "metadata": {},
   "outputs": [
    {
     "name": "stdout",
     "output_type": "stream",
     "text": [
      "+-------------------------------------------+------+-------------+-------------+--------------+--------------+\n",
      "|                 Connection                | Type | Num Pkt H2R | Num Pkt R2H | Len Data H2R | Len Data R2H |\n",
      "+-------------------------------------------+------+-------------+-------------+--------------+--------------+\n",
      "| 172.16.105.110:48778->198.251.131.69:8801 | UDP  |     555     |      15     |    573070    |     1178     |\n",
      "| 172.16.105.110:41758->198.251.131.69:8801 | UDP  |      6      |      2      |     418      |     162      |\n",
      "|  172.16.105.110:42166->198.251.131.69:443 | TCP  |      3      |      4      |      90      |      90      |\n",
      "| 172.16.105.110:41800->198.251.131.69:8801 | UDP  |      2      |      2      |     162      |     162      |\n",
      "+-------------------------------------------+------+-------------+-------------+--------------+--------------+\n"
     ]
    }
   ],
   "source": [
    "get_connections(\"zoom/zoom_both.pcapng\")"
   ]
  },
  {
   "cell_type": "code",
   "execution_count": 16,
   "metadata": {},
   "outputs": [
    {
     "name": "stdout",
     "output_type": "stream",
     "text": [
      "+-------------------------------------------+------+-------------+-------------+--------------+--------------+\n",
      "|                 Connection                | Type | Num Pkt H2R | Num Pkt R2H | Len Data H2R | Len Data R2H |\n",
      "+-------------------------------------------+------+-------------+-------------+--------------+--------------+\n",
      "|  172.16.105.110:60452->170.114.10.89:443  | TCP  |      2      |      3      |      0       |      43      |\n",
      "|  172.16.105.110:60454->170.114.10.89:443  | TCP  |      2      |      2      |      0       |      37      |\n",
      "|  172.16.105.110:42166->198.251.131.69:443 | TCP  |      8      |      10     |     703      |     230      |\n",
      "| 172.16.105.110:48778->198.251.131.69:8801 | UDP  |      4      |      4      |     324      |     324      |\n",
      "|  172.16.105.110:56786->170.114.10.83:443  | TCP  |      2      |      3      |      0       |      43      |\n",
      "| 172.16.105.110:41758->198.251.131.69:8801 | UDP  |      4      |      4      |     324      |     324      |\n",
      "| 172.16.105.110:41800->198.251.131.69:8801 | UDP  |      4      |      4      |     324      |     324      |\n",
      "+-------------------------------------------+------+-------------+-------------+--------------+--------------+\n"
     ]
    }
   ],
   "source": [
    "get_connections(\"zoom/zoom_noaudio.pcapng\")"
   ]
  },
  {
   "cell_type": "code",
   "execution_count": 17,
   "metadata": {},
   "outputs": [
    {
     "name": "stdout",
     "output_type": "stream",
     "text": [
      "+-------------------------------------------+------+-------------+-------------+--------------+--------------+\n",
      "|                 Connection                | Type | Num Pkt H2R | Num Pkt R2H | Len Data H2R | Len Data R2H |\n",
      "+-------------------------------------------+------+-------------+-------------+--------------+--------------+\n",
      "|  172.16.105.110:42166->198.251.131.69:443 | TCP  |      10     |      10     |     308      |     266      |\n",
      "| 172.16.105.110:48778->198.251.131.69:8801 | UDP  |      4      |      4      |     324      |     324      |\n",
      "| 172.16.105.110:41758->198.251.131.69:8801 | UDP  |      10     |      4      |     708      |     324      |\n",
      "| 172.16.105.110:41800->198.251.131.69:8801 | UDP  |      4      |      4      |     324      |     324      |\n",
      "|  255.255.255.255:5678->172.16.105.1:5678  | UDP  |      0      |      1      |      0       |     119      |\n",
      "+-------------------------------------------+------+-------------+-------------+--------------+--------------+\n"
     ]
    }
   ],
   "source": [
    "get_connections(\"zoom/zoom_novideo.pcapng\")"
   ]
  },
  {
   "cell_type": "code",
   "execution_count": 18,
   "metadata": {},
   "outputs": [
    {
     "name": "stdout",
     "output_type": "stream",
     "text": [
      "+-------------------------------------------+------+-------------+-------------+--------------+--------------+\n",
      "|                 Connection                | Type | Num Pkt H2R | Num Pkt R2H | Len Data H2R | Len Data R2H |\n",
      "+-------------------------------------------+------+-------------+-------------+--------------+--------------+\n",
      "|  172.16.105.110:42166->198.251.131.69:443 | TCP  |      10     |      11     |     308      |     266      |\n",
      "| 172.16.105.110:48778->198.251.131.69:8801 | UDP  |      4      |      4      |     324      |     324      |\n",
      "| 172.16.105.110:41758->198.251.131.69:8801 | UDP  |      4      |      4      |     324      |     324      |\n",
      "| 172.16.105.110:41800->198.251.131.69:8801 | UDP  |      4      |      4      |     324      |     324      |\n",
      "+-------------------------------------------+------+-------------+-------------+--------------+--------------+\n"
     ]
    }
   ],
   "source": [
    "get_connections(\"zoom/zoom_none.pcapng\")"
   ]
  },
  {
   "cell_type": "code",
   "execution_count": 23,
   "metadata": {},
   "outputs": [
    {
     "name": "stdout",
     "output_type": "stream",
     "text": [
      "+--------------------------------------------+------+-------------+-------------+--------------+--------------+\n",
      "|                 Connection                 | Type | Num Pkt H2R | Num Pkt R2H | Len Data H2R | Len Data R2H |\n",
      "+--------------------------------------------+------+-------------+-------------+--------------+--------------+\n",
      "|  172.16.105.110:52212->170.114.10.71:443   | TCP  |      12     |      10     |     3017     |    35222     |\n",
      "|       255.255.255.255:67->0.0.0.0:68       | UDP  |      0      |      1      |      0       |     300      |\n",
      "|  172.16.105.110:45500->198.251.151.22:443  | TCP  |      8      |      6      |     517      |     4871     |\n",
      "| 172.16.105.110:53684->198.251.151.134:443  | TCP  |      8      |      6      |     517      |     4871     |\n",
      "| 172.16.105.110:32900->193.123.147.171:443  | TCP  |      14     |      10     |     1874     |     5625     |\n",
      "| 172.16.105.110:49180->193.123.139.126:443  | TCP  |      15     |      10     |     828      |     5028     |\n",
      "| 172.16.105.110:38340->193.123.128.154:443  | TCP  |     149     |     159     |    65442     |    18200     |\n",
      "| 172.16.105.110:48898->193.123.128.154:8801 | UDP  |     1180    |     990     |   1197728    |    991086    |\n",
      "| 172.16.105.110:55148->193.123.128.154:8801 | UDP  |      19     |      13     |     1509     |     932      |\n",
      "| 172.16.105.110:41670->193.123.128.154:8801 | UDP  |      21     |      21     |     1313     |     1163     |\n",
      "|  172.16.105.110:52210->170.114.10.71:443   | TCP  |      2      |      3      |      0       |      43      |\n",
      "+--------------------------------------------+------+-------------+-------------+--------------+--------------+\n"
     ]
    }
   ],
   "source": [
    "get_connections(\"zoom/zoom_turn.pcapng\")"
   ]
  },
  {
   "cell_type": "code",
   "execution_count": null,
   "metadata": {},
   "outputs": [],
   "source": []
  }
 ],
 "metadata": {
  "kernelspec": {
   "display_name": "bert",
   "language": "python",
   "name": "bert"
  },
  "language_info": {
   "codemirror_mode": {
    "name": "ipython",
    "version": 3
   },
   "file_extension": ".py",
   "mimetype": "text/x-python",
   "name": "python",
   "nbconvert_exporter": "python",
   "pygments_lexer": "ipython3",
   "version": "3.6.10"
  }
 },
 "nbformat": 4,
 "nbformat_minor": 4
}
