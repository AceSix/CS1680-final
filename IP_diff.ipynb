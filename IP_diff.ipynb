{
 "cells": [
  {
   "cell_type": "code",
   "execution_count": 8,
   "metadata": {},
   "outputs": [],
   "source": [
    "import sys\n",
    "import struct\n",
    "import os\n",
    "from scapy.all import *\n",
    "from matplotlib import pyplot as plt\n",
    "from prettytable import PrettyTable\n",
    "from utils import *\n",
    "import numpy as np\n",
    "import matplotlib.pyplot as plt\n",
    "\n",
    "filename = \"zoom/zoom_full.pcapng\"\n",
    "a = rdpcap(filename)\n",
    "sessions = a.sessions()"
   ]
  },
  {
   "cell_type": "code",
   "execution_count": 2,
   "metadata": {},
   "outputs": [],
   "source": [
    "Connections = []\n",
    "    \n",
    "for session in sessions:\n",
    "    for id_p,packet in enumerate(sessions[session]):\n",
    "        if(packet.haslayer(ARP) or packet.haslayer(DNS)):\n",
    "            continue\n",
    "             \n",
    "        if(packet.haslayer(IP)):\n",
    "            info = {'ip':1, 'len':0, 'dir':'H2R'}\n",
    "            if packet[IP].src==my_ip:\n",
    "                if packet[IP].dst[:7]==\"170.114\":\n",
    "                    info['ip'] = 0;\n",
    "                \n",
    "            if packet[IP].dst==my_ip:\n",
    "                info['dir'] = 'R2H';\n",
    "                if packet[IP].src[:7]==\"170.114\":\n",
    "                    info['ip'] = 0;\n",
    "            \n",
    "            if packet.haslayer(UDP):\n",
    "                info['len'] = len(packet[UDP].payload)\n",
    "            if packet.haslayer(TCP):\n",
    "                info['len'] = len(packet[TCP].payload)\n",
    "            Connections.append(info)\n"
   ]
  },
  {
   "cell_type": "code",
   "execution_count": 5,
   "metadata": {},
   "outputs": [
    {
     "data": {
      "text/plain": [
       "1916"
      ]
     },
     "execution_count": 5,
     "metadata": {},
     "output_type": "execute_result"
    }
   ],
   "source": [
    "len(Connections)"
   ]
  },
  {
   "cell_type": "code",
   "execution_count": 45,
   "metadata": {},
   "outputs": [
    {
     "name": "stdout",
     "output_type": "stream",
     "text": [
      "192\n"
     ]
    },
    {
     "data": {
      "image/png": "[encoded data removed]",
      "text/plain": [
       "<Figure size 432x288 with 2 Axes>"
      ]
     },
     "metadata": {
      "needs_background": "light"
     },
     "output_type": "display_data"
    }
   ],
   "source": [
    "import matplotlib.patches as mpatches\n",
    "ip1_data = []\n",
    "ip2_data = []\n",
    "ip1_pkt = []\n",
    "ip2_pkt = []\n",
    "\n",
    "win_pkt1 = 0\n",
    "win_pkt2 = 0\n",
    "win_data1 = 0\n",
    "win_data2 = 0\n",
    "for i,info in enumerate(Connections):\n",
    "    if info['ip']==0:\n",
    "        win_pkt1+=1\n",
    "        win_data1+=max(1, info['len'])\n",
    "    else:\n",
    "        win_pkt2+=1\n",
    "        win_data2+=max(1, info['len'])\n",
    "        \n",
    "    if (i+1)%10==0:\n",
    "        ip1_data.append(win_data1)\n",
    "        ip2_data.append(win_data2)\n",
    "        ip1_pkt.append(win_pkt1)\n",
    "        ip2_pkt.append(win_pkt2)\n",
    "        win_pkt1 = 0\n",
    "        win_pkt2 = 0\n",
    "        win_data1 = 0\n",
    "        win_data2 = 0\n",
    "ip1_data.append(win_data1)\n",
    "ip2_data.append(win_data2)\n",
    "ip1_pkt.append(win_pkt1)\n",
    "ip2_pkt.append(win_pkt2)\n",
    "\n",
    "t = np.arange(0, len(ip1_data), 1)\n",
    "print(len(t))\n",
    "\n",
    "fig, axs = plt.subplots(2,1)\n",
    "axs[0].plot(t, ip1_pkt, t, ip2_pkt)\n",
    "axs[0].set_xlim(0, len(t))\n",
    "axs[0].set_xlabel('packet batch')\n",
    "axs[0].set_ylabel('packet num')\n",
    "axs[0].grid(True)\n",
    "\n",
    "axs[1].plot(t, ip1_data, t, ip2_data)\n",
    "axs[1].set_xlim(0, len(t))\n",
    "axs[1].set_xlabel('packet batch')\n",
    "axs[1].set_ylabel('data num')\n",
    "axs[1].grid(True)\n",
    "\n",
    "ip1 = mpatches.Patch(color='skyblue', label='170.114.0.0/20')\n",
    "ip2 = mpatches.Patch(color='orange', label='198.251.128.0/20')\n",
    "axs[0].legend(handles=[ip1, ip2])\n",
    "\n",
    "fig.tight_layout()\n",
    "plt.show()"
   ]
  },
  {
   "cell_type": "code",
   "execution_count": 16,
   "metadata": {},
   "outputs": [
    {
     "data": {
      "text/plain": [
       "64"
      ]
     },
     "execution_count": 16,
     "metadata": {},
     "output_type": "execute_result"
    }
   ],
   "source": [
    "len(ip1_pkt)"
   ]
  },
  {
   "cell_type": "code",
   "execution_count": 7,
   "metadata": {},
   "outputs": [
    {
     "data": {
      "text/plain": [
       "array([0.000e+00, 1.000e-02, 2.000e-02, ..., 2.997e+01, 2.998e+01,\n",
       "       2.999e+01])"
      ]
     },
     "execution_count": 7,
     "metadata": {},
     "output_type": "execute_result"
    }
   ],
   "source": [
    "t"
   ]
  },
  {
   "cell_type": "code",
   "execution_count": null,
   "metadata": {},
   "outputs": [],
   "source": []
  }
 ],
 "metadata": {
  "kernelspec": {
   "display_name": "bert",
   "language": "python",
   "name": "bert"
  },
  "language_info": {
   "codemirror_mode": {
    "name": "ipython",
    "version": 3
   },
   "file_extension": ".py",
   "mimetype": "text/x-python",
   "name": "python",
   "nbconvert_exporter": "python",
   "pygments_lexer": "ipython3",
   "version": "3.6.10"
  }
 },
 "nbformat": 4,
 "nbformat_minor": 4
}
