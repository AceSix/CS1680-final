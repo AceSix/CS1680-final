{
 "cells": [
  {
   "cell_type": "code",
   "execution_count": 1,
   "metadata": {},
   "outputs": [],
   "source": [
    "import sys\n",
    "import struct\n",
    "import os\n",
    "from scapy.all import *\n",
    "from matplotlib import pyplot as plt\n",
    "from prettytable import PrettyTable\n",
    "\n",
    "filename = \"zoom/zoom_full.pcapng\"\n",
    "a = rdpcap(filename)\n",
    "sessions = a.sessions()"
   ]
  },
  {
   "cell_type": "code",
   "execution_count": 2,
   "metadata": {},
   "outputs": [],
   "source": [
    "TCP_cons = []\n",
    "UDP_cons = []\n",
    "\n",
    "\n",
    "def match_TCP(con, pkt):\n",
    "    if pkt[IP].src == con['s_ip'] and \\\n",
    "       pkt[IP].dst == con['d_ip'] and \\\n",
    "       pkt[TCP].sport == con['s_port'] and \\\n",
    "       pkt[TCP].dport == con['d_port']:\n",
    "        return True\n",
    "    else:\n",
    "        return False\n",
    "    \n",
    "def match_UDP(con, pkt):\n",
    "    if pkt[IP].src == con['s_ip'] and \\\n",
    "       pkt[IP].dst == con['d_ip'] and \\\n",
    "       pkt[UDP].sport == con['s_port'] and \\\n",
    "       pkt[UDP].dport == con['d_port']:\n",
    "        return True\n",
    "    else:\n",
    "        return False\n",
    "        \n",
    "\n",
    "for session in sessions:\n",
    "    for idx,packet in enumerate(sessions[session]):\n",
    "        if(packet.haslayer(ARP) or packet.haslayer(DNS)):\n",
    "            continue\n",
    "             \n",
    "        if(packet.haslayer(IP)):\n",
    "            if(packet.haslayer(TCP)):                \n",
    "                flag = False\n",
    "                for i,con in enumerate(TCP_cons):\n",
    "                    if match_TCP(con, packet):\n",
    "                        TCP_cons[i]['packets'].append({\n",
    "                            \"seq\":packet[TCP].seq, \"len\":len(packet[TCP].payload),\n",
    "                            \"flag\":packet[TCP].flags, \"order\": idx\n",
    "                        })\n",
    "                        flag = True\n",
    "                        break\n",
    "                if not flag:\n",
    "                    TCP_cons.append({\n",
    "                        's_ip':packet[IP].src,'d_ip':packet[IP].dst,\n",
    "                        's_port':packet[TCP].sport,'d_port':packet[TCP].dport,\n",
    "                        'type':\"TCP\",\n",
    "                        'packets':[{\n",
    "                            \"seq\":packet[TCP].seq, \"len\":len(packet[TCP].payload),\n",
    "                            \"flag\":packet[TCP].flags, \"order\": idx\n",
    "                        }]\n",
    "                    })\n",
    "                pass\n",
    "        \n",
    "            elif(packet.haslayer(UDP)):\n",
    "                flag = False\n",
    "                for i,con in enumerate(UDP_cons):\n",
    "                    if match_UDP(con, packet):\n",
    "                        UDP_cons[i]['packets'].append({\n",
    "                            \"len\":len(packet[UDP].payload),\n",
    "                            \"order\": idx\n",
    "                        })\n",
    "                        flag = True\n",
    "                        break\n",
    "                if not flag:\n",
    "                    UDP_cons.append({\n",
    "                        's_ip':packet[IP].src,'d_ip':packet[IP].dst,\n",
    "                        's_port':packet[UDP].sport,'d_port':packet[UDP].dport,\n",
    "                        'type':\"UDP\",\n",
    "                        'packets':[{\n",
    "                            \"len\":len(packet[UDP].payload),\n",
    "                            \"order\": idx\n",
    "                        }]\n",
    "                    })\n",
    "                pass\n",
    "                pass\n",
    "            else:\n",
    "                pass\n",
    "#                 break\n",
    "\n",
    "            "
   ]
  },
  {
   "cell_type": "code",
   "execution_count": 3,
   "metadata": {},
   "outputs": [
    {
     "data": {
      "text/plain": [
       "16"
      ]
     },
     "execution_count": 3,
     "metadata": {},
     "output_type": "execute_result"
    }
   ],
   "source": [
    "len(TCP_cons)"
   ]
  },
  {
   "cell_type": "code",
   "execution_count": 4,
   "metadata": {},
   "outputs": [
    {
     "data": {
      "text/plain": [
       "{'s_ip': '172.16.105.110',\n",
       " 'd_ip': '170.114.10.89',\n",
       " 's_port': 60450,\n",
       " 'd_port': 443,\n",
       " 'type': 'TCP',\n",
       " 'packets': [{'seq': 1289558202,\n",
       "   'len': 31,\n",
       "   'flag': <Flag 24 (PA)>,\n",
       "   'order': 4},\n",
       "  {'seq': 1289558233, 'len': 0, 'flag': <Flag 20 (RA)>, 'order': 5}]}"
      ]
     },
     "execution_count": 4,
     "metadata": {},
     "output_type": "execute_result"
    }
   ],
   "source": [
    "TCP_cons[0]"
   ]
  },
  {
   "cell_type": "code",
   "execution_count": 5,
   "metadata": {},
   "outputs": [
    {
     "data": {
      "text/plain": [
       "6"
      ]
     },
     "execution_count": 5,
     "metadata": {},
     "output_type": "execute_result"
    }
   ],
   "source": [
    "len(UDP_cons)"
   ]
  },
  {
   "cell_type": "code",
   "execution_count": 6,
   "metadata": {},
   "outputs": [],
   "source": [
    "all_cons = TCP_cons + UDP_cons\n",
    "all_cons.sort(key=lambda con: con['packets'][0]['order'])"
   ]
  },
  {
   "cell_type": "code",
   "execution_count": 7,
   "metadata": {},
   "outputs": [
    {
     "name": "stdout",
     "output_type": "stream",
     "text": [
      "+-------------------------------------------+------+------------+------------+\n",
      "|                 Connection                | Type | Num Packet | Total Data |\n",
      "+-------------------------------------------+------+------------+------------+\n",
      "|  172.16.105.110:60450->170.114.10.89:443  | TCP  |     2      |     31     |\n",
      "|  172.16.105.110:60452->170.114.10.89:443  | TCP  |     2      |     31     |\n",
      "|  172.16.105.110:60454->170.114.10.89:443  | TCP  |     2      |     31     |\n",
      "|  172.16.105.110:56786->170.114.10.83:443  | TCP  |     2      |     31     |\n",
      "|  172.16.105.110:52210->170.114.10.71:443  | TCP  |     11     |    3015    |\n",
      "|  170.114.10.71:443->172.16.105.110:52210  | TCP  |     9      |   34949    |\n",
      "| 172.16.105.110:45782->198.251.148.137:443 | TCP  |     8      |    517     |\n",
      "| 172.16.105.110:60832->198.251.134.174:443 | TCP  |     13     |    1874    |\n",
      "| 172.16.105.110:32936->198.251.148.138:443 | TCP  |     8      |    517     |\n",
      "| 172.16.105.110:40088->198.251.135.168:443 | TCP  |     14     |    1874    |\n",
      "| 198.251.134.174:443->172.16.105.110:60832 | TCP  |     9      |    5621    |\n",
      "| 198.251.135.168:443->172.16.105.110:40088 | TCP  |     9      |    5625    |\n",
      "| 198.251.148.137:443->172.16.105.110:45782 | TCP  |     6      |    4871    |\n",
      "| 198.251.148.138:443->172.16.105.110:32936 | TCP  |     6      |    4871    |\n",
      "|  172.16.105.110:51292->198.251.135.90:443 | TCP  |    110     |   64599    |\n",
      "|  198.251.135.90:443->172.16.105.110:51292 | TCP  |    110     |   17118    |\n",
      "| 172.16.105.110:52164->198.251.135.90:8801 | UDP  |    580     |   582810   |\n",
      "| 198.251.135.90:8801->172.16.105.110:52164 | UDP  |    973     |   988749   |\n",
      "| 172.16.105.110:58332->198.251.135.90:8801 | UDP  |     9      |    746     |\n",
      "| 198.251.135.90:8801->172.16.105.110:58332 | UDP  |     5      |    284     |\n",
      "| 172.16.105.110:58380->198.251.135.90:8801 | UDP  |     14     |    742     |\n",
      "| 198.251.135.90:8801->172.16.105.110:58380 | UDP  |     13     |    515     |\n",
      "+-------------------------------------------+------+------------+------------+\n"
     ]
    }
   ],
   "source": [
    "x = PrettyTable()\n",
    "\n",
    "x.field_names = [\"Connection\", \"Type\", \"Num Packet\", \"Total Data\"]\n",
    "\n",
    "for con in all_cons:\n",
    "    x.add_row([f\"{con['s_ip']}:{con['s_port']}->{con['d_ip']}:{con['d_port']}\", \n",
    "               con['type'], \n",
    "               len(con['packets']), \n",
    "               sum([pkt['len'] for pkt in con['packets']])])\n",
    "    \n",
    "\n",
    "print(x)"
   ]
  },
  {
   "cell_type": "code",
   "execution_count": null,
   "metadata": {},
   "outputs": [],
   "source": []
  },
  {
   "cell_type": "code",
   "execution_count": null,
   "metadata": {},
   "outputs": [],
   "source": []
  }
 ],
 "metadata": {
  "kernelspec": {
   "display_name": "bert",
   "language": "python",
   "name": "bert"
  },
  "language_info": {
   "codemirror_mode": {
    "name": "ipython",
    "version": 3
   },
   "file_extension": ".py",
   "mimetype": "text/x-python",
   "name": "python",
   "nbconvert_exporter": "python",
   "pygments_lexer": "ipython3",
   "version": "3.6.10"
  }
 },
 "nbformat": 4,
 "nbformat_minor": 5
}
