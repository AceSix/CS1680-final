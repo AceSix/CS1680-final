{
 "cells": [
  {
   "cell_type": "code",
   "execution_count": 23,
   "metadata": {},
   "outputs": [],
   "source": [
    "import sys\n",
    "import struct\n",
    "import os\n",
    "from scapy.all import *\n",
    "from prettytable import PrettyTable\n",
    "from utils import *\n",
    "import numpy as np\n",
    "import matplotlib.pyplot as plt"
   ]
  },
  {
   "cell_type": "code",
   "execution_count": 53,
   "metadata": {},
   "outputs": [],
   "source": [
    "def get_connections(filename):\n",
    "    Connections = []\n",
    "    my_ip = \"172.16.105.110\"\n",
    "        \n",
    "    a = rdpcap(filename)\n",
    "    sessions = a.sessions()\n",
    "    \n",
    "    for id_p,packet in enumerate(a.res):\n",
    "        if(packet.haslayer(ARP) or packet.haslayer(DNS)):\n",
    "            continue\n",
    "             \n",
    "        if(packet.haslayer(IP)):\n",
    "            if(packet.haslayer(TCP)):                \n",
    "                flag = False\n",
    "                idx = len(Connections)\n",
    "                for i,con in enumerate(Connections):\n",
    "                    if match_TCP(con, packet):\n",
    "                        flag = True\n",
    "                        idx = i\n",
    "                        break\n",
    "                if not flag:\n",
    "                    if packet[IP].src==my_ip:\n",
    "                        Connections.append({\n",
    "                            's_ip':packet[IP].src,'d_ip':packet[IP].dst,\n",
    "                            's_port':packet[TCP].sport,'d_port':packet[TCP].dport,\n",
    "                            'type':\"TCP\",\n",
    "                            'snd_packets':[],\n",
    "                            'rcv_packets':[]\n",
    "                        })\n",
    "                    else:\n",
    "                        Connections.append({\n",
    "                            's_ip':packet[IP].dst,'d_ip':packet[IP].src,\n",
    "                            's_port':packet[TCP].dport,'d_port':packet[TCP].sport,\n",
    "                            'type':\"TCP\",\n",
    "                            'snd_packets':[],\n",
    "                            'rcv_packets':[]\n",
    "                        })\n",
    "                    \n",
    "                if packet[IP].src==my_ip:\n",
    "                    Connections[idx]['snd_packets'].append({\n",
    "                        \"seq\":packet[TCP].seq, \"len\":len(packet[TCP].payload),\n",
    "                        \"flag\":packet[TCP].flags, \"order\": id_p\n",
    "                    })\n",
    "                else:\n",
    "                    Connections[idx]['rcv_packets'].append({\n",
    "                        \"seq\":packet[TCP].seq, \"len\":len(packet[TCP].payload),\n",
    "                        \"flag\":packet[TCP].flags, \"order\": id_p\n",
    "                    })\n",
    "                pass\n",
    "        \n",
    "            elif(packet.haslayer(UDP)):\n",
    "                flag = False\n",
    "                idx = len(Connections)\n",
    "                for i,con in enumerate(Connections):\n",
    "                    if match_UDP(con, packet):\n",
    "                        flag = True\n",
    "                        idx=i\n",
    "                        break\n",
    "                if not flag:\n",
    "                    if packet[IP].src==my_ip:\n",
    "                        Connections.append({\n",
    "                            's_ip':packet[IP].src,'d_ip':packet[IP].dst,\n",
    "                            's_port':packet[UDP].sport,'d_port':packet[UDP].dport,\n",
    "                            'type':\"UDP\",\n",
    "                            'snd_packets':[],\n",
    "                            'rcv_packets':[]\n",
    "                        })\n",
    "                    else:\n",
    "                        Connections.append({\n",
    "                            's_ip':packet[IP].dst,'d_ip':packet[IP].src,\n",
    "                            's_port':packet[UDP].dport,'d_port':packet[UDP].sport,\n",
    "                            'type':\"UDP\",\n",
    "                            'snd_packets':[],\n",
    "                            'rcv_packets':[]\n",
    "                        })\n",
    "                    \n",
    "                if packet[IP].src==my_ip:\n",
    "                    Connections[idx]['snd_packets'].append({\n",
    "                        \"len\":len(packet[UDP].payload),\n",
    "                            \"order\": id_p\n",
    "                    })\n",
    "                else:\n",
    "                    Connections[idx]['rcv_packets'].append({\n",
    "                        \"len\":len(packet[UDP].payload),\n",
    "                        \"order\": id_p\n",
    "                    })\n",
    "                pass\n",
    "            else:\n",
    "                pass\n",
    "    \n",
    "    x = PrettyTable()\n",
    "    \n",
    "    x.field_names = [\"Connection\", \"Type\", \"Num Pkt H2R\", \"Num Pkt R2H\", \"Len Data H2R\", \"Len Data R2H\"]\n",
    "    \n",
    "    for con in Connections:\n",
    "        x.add_row([f\"{con['s_ip']}:{con['s_port']}->{con['d_ip']}:{con['d_port']}\", \n",
    "                   con['type'], \n",
    "                   len(con['snd_packets']), len(con['rcv_packets']), \n",
    "                   sum([pkt['len'] for pkt in con['snd_packets']]), \n",
    "                   sum([pkt['len'] for pkt in con['rcv_packets']])])\n",
    "        \n",
    "    \n",
    "    print(x)\n",
    "    return Connections"
   ]
  },
  {
   "cell_type": "code",
   "execution_count": 25,
   "metadata": {},
   "outputs": [
    {
     "name": "stdout",
     "output_type": "stream",
     "text": [
      "+--------------------------------------------+------+-------------+-------------+--------------+--------------+\n",
      "|                 Connection                 | Type | Num Pkt H2R | Num Pkt R2H | Len Data H2R | Len Data R2H |\n",
      "+--------------------------------------------+------+-------------+-------------+--------------+--------------+\n",
      "| 172.16.105.110:33878->198.251.149.220:8801 | UDP  |      79     |      28     |     5532     |     2268     |\n",
      "| 172.16.105.110:41065->198.251.149.220:8801 | UDP  |      28     |      28     |     2268     |     2268     |\n",
      "| 172.16.105.110:60778->198.251.149.220:443  | TCP  |      69     |      68     |     3346     |     1714     |\n",
      "| 172.16.105.110:36135->198.251.149.220:8801 | UDP  |      26     |      26     |     2106     |     2106     |\n",
      "|   172.16.105.110:34909->91.189.94.4:123    | UDP  |      1      |      1      |      48      |      48      |\n",
      "|  172.16.105.110:36660->170.114.10.77:443   | TCP  |      5      |      4      |     1786     |    15625     |\n",
      "|  172.16.105.110:43452->170.114.10.79:443   | TCP  |      2      |      3      |      0       |      43      |\n",
      "|  172.16.105.110:36662->170.114.10.77:443   | TCP  |      2      |      3      |      0       |      43      |\n",
      "|       255.255.255.255:67->0.0.0.0:68       | UDP  |      0      |      1      |      0       |     300      |\n",
      "|  255.255.255.255:5678->172.16.105.1:5678   | UDP  |      0      |      1      |      0       |     119      |\n",
      "|  172.16.105.110:43454->170.114.10.79:443   | TCP  |      2      |      2      |      0       |      37      |\n",
      "+--------------------------------------------+------+-------------+-------------+--------------+--------------+\n"
     ]
    }
   ],
   "source": [
    "norm = get_connections(\"zoom/both.pcapng\")"
   ]
  },
  {
   "cell_type": "code",
   "execution_count": 26,
   "metadata": {},
   "outputs": [
    {
     "name": "stdout",
     "output_type": "stream",
     "text": [
      "+--------------------------------------------+------+-------------+-------------+--------------+--------------+\n",
      "|                 Connection                 | Type | Num Pkt H2R | Num Pkt R2H | Len Data H2R | Len Data R2H |\n",
      "+--------------------------------------------+------+-------------+-------------+--------------+--------------+\n",
      "| 172.16.105.110:60778->198.251.149.220:443  | TCP  |      57     |      65     |     3227     |     2128     |\n",
      "| 172.16.105.110:36135->198.251.149.220:8801 | UDP  |      14     |      21     |     1134     |     1701     |\n",
      "| 172.16.105.110:33878->198.251.149.220:8801 | UDP  |      35     |      21     |     2461     |     1701     |\n",
      "| 172.16.105.110:41065->198.251.149.220:8801 | UDP  |      15     |      18     |     1215     |     1458     |\n",
      "|       255.255.255.255:67->0.0.0.0:68       | UDP  |      0      |      1      |      0       |     300      |\n",
      "|  255.255.255.255:5678->172.16.105.1:5678   | UDP  |      0      |      1      |      0       |     119      |\n",
      "|   172.16.105.110:59736->18.167.4.206:443   | TCP  |      1      |      0      |     517      |      0       |\n",
      "|   172.16.105.110:34382->34.122.121.32:80   | TCP  |      2      |      0      |      0       |      0       |\n",
      "+--------------------------------------------+------+-------------+-------------+--------------+--------------+\n"
     ]
    }
   ],
   "source": [
    "lossy = get_connections(\"zoom/loss_50.pcapng\")"
   ]
  },
  {
   "cell_type": "code",
   "execution_count": 17,
   "metadata": {},
   "outputs": [],
   "source": [
    "norm_pkts = []\n",
    "retrans = []"
   ]
  },
  {
   "cell_type": "code",
   "execution_count": 18,
   "metadata": {},
   "outputs": [],
   "source": [
    "prev_seq = 0\n",
    "prev_len = 0\n",
    "\n",
    "retransmissions = 0\n",
    "\n",
    "for info in norm[2]['rcv_packets']:\n",
    "    if info['seq']==prev_seq and info['len']==prev_len and info['len']!=0:\n",
    "        retransmissions += 1\n",
    "    prev_seq = info['seq']\n",
    "    prev_len = info['len']\n",
    "    \n",
    "ratio = retransmissions/len(norm[2]['rcv_packets'])\n",
    "\n",
    "\n",
    "norm_pkts.append(1-ratio)\n",
    "retrans.append(ratio)"
   ]
  },
  {
   "cell_type": "code",
   "execution_count": 19,
   "metadata": {},
   "outputs": [],
   "source": [
    "prev_seq = 0\n",
    "prev_len = 0\n",
    "\n",
    "retransmissions = 0\n",
    "\n",
    "for info in lossy[0]['rcv_packets']:\n",
    "    if info['seq']==prev_seq and info['len']==prev_len and info['len']!=0:\n",
    "        retransmissions += 1\n",
    "    prev_seq = info['seq']\n",
    "    prev_len = info['len']\n",
    "\n",
    "ratio = retransmissions/len(lossy[0]['rcv_packets'])\n",
    "norm_pkts.append(1-ratio)\n",
    "retrans.append(ratio)"
   ]
  },
  {
   "cell_type": "code",
   "execution_count": 20,
   "metadata": {},
   "outputs": [
    {
     "name": "stdout",
     "output_type": "stream",
     "text": [
      "[1.0, 0.8769230769230769]\n",
      "[0.0, 0.12307692307692308]\n"
     ]
    }
   ],
   "source": [
    "print(norm_pkts)\n",
    "print(retrans)"
   ]
  },
  {
   "cell_type": "code",
   "execution_count": 22,
   "metadata": {},
   "outputs": [
    {
     "data": {
      "image/png": "[encoded data removed]",
      "text/plain": [
       "<Figure size 432x288 with 1 Axes>"
      ]
     },
     "metadata": {
      "needs_background": "light"
     },
     "output_type": "display_data"
    }
   ],
   "source": [
    "labels = ['Normal', 'Lossy']\n",
    "\n",
    "width = 0.45  \n",
    "\n",
    "fig, ax = plt.subplots()\n",
    "\n",
    "ax.bar(labels, norm_pkts, width, label='normal')\n",
    "ax.bar(labels, retrans, width, bottom=norm_pkts, label='retransmission')\n",
    "\n",
    "ax.set_ylabel('Packets Ratio')\n",
    "ax.legend()\n",
    "\n",
    "plt.show()"
   ]
  },
  {
   "cell_type": "code",
   "execution_count": 54,
   "metadata": {},
   "outputs": [
    {
     "name": "stdout",
     "output_type": "stream",
     "text": [
      "+-------------------------------------------+------+-------------+-------------+--------------+--------------+\n",
      "|                 Connection                | Type | Num Pkt H2R | Num Pkt R2H | Len Data H2R | Len Data R2H |\n",
      "+-------------------------------------------+------+-------------+-------------+--------------+--------------+\n",
      "| 172.16.105.110:46195->198.251.134.55:8801 | UDP  |     1696    |     479     |   1742962    |    101845    |\n",
      "| 172.16.105.110:47020->198.251.134.55:8801 | UDP  |     172     |     162     |    15228     |    13864     |\n",
      "|  172.16.105.110:50900->198.251.134.55:443 | TCP  |      53     |      57     |     2759     |     2118     |\n",
      "|       255.255.255.255:67->0.0.0.0:68      | UDP  |      0      |      1      |      0       |     300      |\n",
      "| 172.16.105.110:36330->198.251.134.55:8801 | UDP  |      8      |      8      |     648      |     648      |\n",
      "|  255.255.255.255:5678->172.16.105.1:5678  | UDP  |      0      |      1      |      0       |     119      |\n",
      "+-------------------------------------------+------+-------------+-------------+--------------+--------------+\n",
      "+-------------------------------------------+------+-------------+-------------+--------------+--------------+\n",
      "|                 Connection                | Type | Num Pkt H2R | Num Pkt R2H | Len Data H2R | Len Data R2H |\n",
      "+-------------------------------------------+------+-------------+-------------+--------------+--------------+\n",
      "| 172.16.105.110:47020->198.251.134.55:8801 | UDP  |     652     |     638     |    69247     |    92266     |\n",
      "| 172.16.105.110:46195->198.251.134.55:8801 | UDP  |     2949    |     6233    |   3194414    |   1180127    |\n",
      "|  172.16.105.110:50900->198.251.134.55:443 | TCP  |      97     |     152     |     8798     |     7876     |\n",
      "| 172.16.105.110:36330->198.251.134.55:8801 | UDP  |      10     |      13     |     810      |     1053     |\n",
      "|  172.16.105.110:57864->170.114.10.85:443  | TCP  |      1      |      3      |      0       |      43      |\n",
      "|  255.255.255.255:5678->172.16.105.1:5678  | UDP  |      0      |      1      |      0       |     119      |\n",
      "|       255.255.255.255:67->0.0.0.0:68      | UDP  |      0      |      1      |      0       |     300      |\n",
      "+-------------------------------------------+------+-------------+-------------+--------------+--------------+\n"
     ]
    }
   ],
   "source": [
    "multi_norm = get_connections(\"zoom/two.pcapng\")\n",
    "multi_loss = get_connections(\"zoom/two_loss50.pcapng\")"
   ]
  },
  {
   "cell_type": "code",
   "execution_count": null,
   "metadata": {},
   "outputs": [],
   "source": [
    "labels = ['Normal', 'Lossy']\n",
    "\n",
    "TCP  = []\n",
    "UDP1 = []\n",
    "UDP2 = []\n",
    "UDP3 = []\n",
    "\n",
    "width = 0.45  \n",
    "\n",
    "fig, ax = plt.subplots()\n",
    "\n",
    "ax.bar(labels, norm_pkts, width, label='normal')\n",
    "ax.bar(labels, retrans, width, bottom=norm_pkts, label='retransmission')\n",
    "\n",
    "ax.set_ylabel('Packets Ratio')\n",
    "ax.legend()\n",
    "\n",
    "plt.show()"
   ]
  },
  {
   "cell_type": "code",
   "execution_count": 36,
   "metadata": {},
   "outputs": [],
   "source": [
    "a = rdpcap(\"zoom/two_loss50.pcapng\")\n",
    "sessions = a.sessions()"
   ]
  },
  {
   "cell_type": "code",
   "execution_count": 52,
   "metadata": {},
   "outputs": [
    {
     "data": {
      "text/plain": [
       "'172.16.105.110'"
      ]
     },
     "execution_count": 52,
     "metadata": {},
     "output_type": "execute_result"
    }
   ],
   "source": [
    "a.res[0][IP].src"
   ]
  },
  {
   "cell_type": "code",
   "execution_count": null,
   "metadata": {},
   "outputs": [],
   "source": []
  }
 ],
 "metadata": {
  "kernelspec": {
   "display_name": "bert",
   "language": "python",
   "name": "bert"
  },
  "language_info": {
   "codemirror_mode": {
    "name": "ipython",
    "version": 3
   },
   "file_extension": ".py",
   "mimetype": "text/x-python",
   "name": "python",
   "nbconvert_exporter": "python",
   "pygments_lexer": "ipython3",
   "version": "3.6.10"
  }
 },
 "nbformat": 4,
 "nbformat_minor": 4
}
